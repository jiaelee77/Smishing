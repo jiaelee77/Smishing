{
  "nbformat": 4,
  "nbformat_minor": 0,
  "metadata": {
    "_change_revision": 260,
    "_is_fork": false,
    "kernelspec": {
      "display_name": "Python 3",
      "language": "python",
      "name": "python3"
    },
    "language_info": {
      "codemirror_mode": {
        "name": "ipython",
        "version": 3
      },
      "file_extension": ".py",
      "mimetype": "text/x-python",
      "name": "python",
      "nbconvert_exporter": "python",
      "pygments_lexer": "ipython3",
      "version": "3.6.0"
    },
    "colab": {
      "name": "sms-spam-detection-with-various-classifiers.ipynb",
      "provenance": [],
      "collapsed_sections": []
    },
    "accelerator": "GPU"
  },
  "cells": [
    {
      "cell_type": "markdown",
      "metadata": {
        "_cell_guid": "a9d79990-beea-6157-59fa-d59a44b92ba8",
        "id": "dpyUpEJjOVWv",
        "colab_type": "text"
      },
      "source": [
        "### Test several model to classify sms smishing"
      ]
    },
    {
      "cell_type": "markdown",
      "metadata": {
        "_cell_guid": "79182371-b9d8-4e8f-eeb6-b38f3476a674",
        "id": "oj4VkUxjOVWw",
        "colab_type": "text"
      },
      "source": [
        "Import library"
      ]
    },
    {
      "cell_type": "code",
      "metadata": {
        "id": "ot6dwRynEY-e",
        "colab_type": "code",
        "outputId": "39f52fc5-843c-4179-9bb6-1b063e2c2147",
        "colab": {
          "base_uri": "https://localhost:8080/",
          "height": 54
        }
      },
      "source": [
        "from os import path\n",
        "from google.colab import drive\n",
        "drive.mount('/content/drive')\n",
        "#upload=files.upload()\n",
        "#import os\n",
        "print(os.getcwd())"
      ],
      "execution_count": 286,
      "outputs": [
        {
          "output_type": "stream",
          "text": [
            "Drive already mounted at /content/drive; to attempt to forcibly remount, call drive.mount(\"/content/drive\", force_remount=True).\n",
            "/content\n"
          ],
          "name": "stdout"
        }
      ]
    },
    {
      "cell_type": "code",
      "metadata": {
        "_cell_guid": "e6094c6e-9777-c7be-bd57-fe431519ad20",
        "id": "uE_U75WIOVWw",
        "colab_type": "code",
        "colab": {}
      },
      "source": [
        "import numpy as np\n",
        "import pandas as pd\n",
        "import matplotlib as mpl\n",
        "import matplotlib.pyplot as plt\n",
        "import seaborn as sns\n",
        "import string\n",
        "from sklearn.feature_extraction.text import TfidfVectorizer\n",
        "from sklearn.model_selection import train_test_split\n",
        "import nltk\n",
        "from nltk.stem import SnowballStemmer\n",
        "from nltk.corpus import stopwords\n",
        "import nltk\n",
        " \n",
        "%matplotlib inline"
      ],
      "execution_count": 0,
      "outputs": []
    },
    {
      "cell_type": "markdown",
      "metadata": {
        "_cell_guid": "6689da0a-5795-85f6-2f13-4eb276bde97f",
        "id": "oBt7IkITOVWz",
        "colab_type": "text"
      },
      "source": [
        "Read csv file (*https://archive.ics.uci.edu/ml/datasets/SMS+Spam+Collection*)"
      ]
    },
    {
      "cell_type": "code",
      "metadata": {
        "_cell_guid": "94a28c87-ff0a-8302-05bd-404df2873761",
        "id": "_VqHBJfjOVWz",
        "colab_type": "code",
        "outputId": "d8a85ac1-2efd-4d37-8964-6f29c260828c",
        "colab": {
          "base_uri": "https://localhost:8080/",
          "height": 198
        }
      },
      "source": [
        "sms=pd.read_csv('/content/drive/My Drive/Colab Notebooks/Data/spam.csv', encoding='latin-1') \n",
        "sms.head()\n",
        "#sms=pd.read_csv(https://drive.google.com/file/d/17QYAMAQmARxQEnGNupHnkDXoNUAO8uCk/view?usp=sharing)#//"
      ],
      "execution_count": 288,
      "outputs": [
        {
          "output_type": "execute_result",
          "data": {
            "text/html": [
              "<div>\n",
              "<style scoped>\n",
              "    .dataframe tbody tr th:only-of-type {\n",
              "        vertical-align: middle;\n",
              "    }\n",
              "\n",
              "    .dataframe tbody tr th {\n",
              "        vertical-align: top;\n",
              "    }\n",
              "\n",
              "    .dataframe thead th {\n",
              "        text-align: right;\n",
              "    }\n",
              "</style>\n",
              "<table border=\"1\" class=\"dataframe\">\n",
              "  <thead>\n",
              "    <tr style=\"text-align: right;\">\n",
              "      <th></th>\n",
              "      <th>v1</th>\n",
              "      <th>v2</th>\n",
              "      <th>Unnamed: 2</th>\n",
              "      <th>Unnamed: 3</th>\n",
              "      <th>Unnamed: 4</th>\n",
              "    </tr>\n",
              "  </thead>\n",
              "  <tbody>\n",
              "    <tr>\n",
              "      <th>0</th>\n",
              "      <td>ham</td>\n",
              "      <td>Go until jurong point, crazy.. Available only ...</td>\n",
              "      <td>NaN</td>\n",
              "      <td>NaN</td>\n",
              "      <td>NaN</td>\n",
              "    </tr>\n",
              "    <tr>\n",
              "      <th>1</th>\n",
              "      <td>ham</td>\n",
              "      <td>Ok lar... Joking wif u oni...</td>\n",
              "      <td>NaN</td>\n",
              "      <td>NaN</td>\n",
              "      <td>NaN</td>\n",
              "    </tr>\n",
              "    <tr>\n",
              "      <th>2</th>\n",
              "      <td>spam</td>\n",
              "      <td>Free entry in 2 a wkly comp to win FA Cup fina...</td>\n",
              "      <td>NaN</td>\n",
              "      <td>NaN</td>\n",
              "      <td>NaN</td>\n",
              "    </tr>\n",
              "    <tr>\n",
              "      <th>3</th>\n",
              "      <td>ham</td>\n",
              "      <td>U dun say so early hor... U c already then say...</td>\n",
              "      <td>NaN</td>\n",
              "      <td>NaN</td>\n",
              "      <td>NaN</td>\n",
              "    </tr>\n",
              "    <tr>\n",
              "      <th>4</th>\n",
              "      <td>ham</td>\n",
              "      <td>Nah I don't think he goes to usf, he lives aro...</td>\n",
              "      <td>NaN</td>\n",
              "      <td>NaN</td>\n",
              "      <td>NaN</td>\n",
              "    </tr>\n",
              "  </tbody>\n",
              "</table>\n",
              "</div>"
            ],
            "text/plain": [
              "     v1  ... Unnamed: 4\n",
              "0   ham  ...        NaN\n",
              "1   ham  ...        NaN\n",
              "2  spam  ...        NaN\n",
              "3   ham  ...        NaN\n",
              "4   ham  ...        NaN\n",
              "\n",
              "[5 rows x 5 columns]"
            ]
          },
          "metadata": {
            "tags": []
          },
          "execution_count": 288
        }
      ]
    },
    {
      "cell_type": "markdown",
      "metadata": {
        "_cell_guid": "dc912e7b-d1b9-7937-ebeb-5310b67017b1",
        "id": "AETA-7n7OVW2",
        "colab_type": "text"
      },
      "source": [
        "Modify the columns\n",
        "- drop \"Unnamed\"\n",
        "- rename v1 and v2 to \"label\" and \"message\", respectively\n"
      ]
    },
    {
      "cell_type": "code",
      "metadata": {
        "_cell_guid": "85bb6f9f-77db-6352-e53e-79bc29112304",
        "id": "w9c6p5kXOVW3",
        "colab_type": "code",
        "colab": {}
      },
      "source": [
        "sms = sms.drop(['Unnamed: 2','Unnamed: 3','Unnamed: 4'],axis=1)\n",
        "sms = sms.rename(columns = {'v1':'label','v2':'message'})"
      ],
      "execution_count": 0,
      "outputs": []
    },
    {
      "cell_type": "code",
      "metadata": {
        "_cell_guid": "0ad05287-4fa7-835a-2a58-ef273065875f",
        "id": "gncmclPjOVW5",
        "colab_type": "code",
        "outputId": "92f45e59-51c4-4603-9595-2daa8e994947",
        "colab": {
          "base_uri": "https://localhost:8080/",
          "height": 168
        }
      },
      "source": [
        "sms.groupby('label').describe()"
      ],
      "execution_count": 290,
      "outputs": [
        {
          "output_type": "execute_result",
          "data": {
            "text/html": [
              "<div>\n",
              "<style scoped>\n",
              "    .dataframe tbody tr th:only-of-type {\n",
              "        vertical-align: middle;\n",
              "    }\n",
              "\n",
              "    .dataframe tbody tr th {\n",
              "        vertical-align: top;\n",
              "    }\n",
              "\n",
              "    .dataframe thead tr th {\n",
              "        text-align: left;\n",
              "    }\n",
              "\n",
              "    .dataframe thead tr:last-of-type th {\n",
              "        text-align: right;\n",
              "    }\n",
              "</style>\n",
              "<table border=\"1\" class=\"dataframe\">\n",
              "  <thead>\n",
              "    <tr>\n",
              "      <th></th>\n",
              "      <th colspan=\"4\" halign=\"left\">message</th>\n",
              "    </tr>\n",
              "    <tr>\n",
              "      <th></th>\n",
              "      <th>count</th>\n",
              "      <th>unique</th>\n",
              "      <th>top</th>\n",
              "      <th>freq</th>\n",
              "    </tr>\n",
              "    <tr>\n",
              "      <th>label</th>\n",
              "      <th></th>\n",
              "      <th></th>\n",
              "      <th></th>\n",
              "      <th></th>\n",
              "    </tr>\n",
              "  </thead>\n",
              "  <tbody>\n",
              "    <tr>\n",
              "      <th>ham</th>\n",
              "      <td>4825</td>\n",
              "      <td>4516</td>\n",
              "      <td>Sorry, I'll call later</td>\n",
              "      <td>30</td>\n",
              "    </tr>\n",
              "    <tr>\n",
              "      <th>spam</th>\n",
              "      <td>747</td>\n",
              "      <td>653</td>\n",
              "      <td>Please call our customer service representativ...</td>\n",
              "      <td>4</td>\n",
              "    </tr>\n",
              "  </tbody>\n",
              "</table>\n",
              "</div>"
            ],
            "text/plain": [
              "      message                                                               \n",
              "        count unique                                                top freq\n",
              "label                                                                       \n",
              "ham      4825   4516                             Sorry, I'll call later   30\n",
              "spam      747    653  Please call our customer service representativ...    4"
            ]
          },
          "metadata": {
            "tags": []
          },
          "execution_count": 290
        }
      ]
    },
    {
      "cell_type": "markdown",
      "metadata": {
        "_cell_guid": "053b2b31-e65f-5514-5f07-a16b2c42f6c7",
        "id": "NMD8_COhOVW7",
        "colab_type": "text"
      },
      "source": [
        "The label is grouped by ham and spam.\n",
        "- count: total of spam or ham\n",
        "- unique: ?\n",
        "- top: top rank words of label\n",
        "- frequency: number of certain words"
      ]
    },
    {
      "cell_type": "markdown",
      "metadata": {
        "_cell_guid": "d95f59db-4713-1f64-083c-fc8a25708234",
        "id": "Bes4jubDOVW7",
        "colab_type": "text"
      },
      "source": [
        "Chcek any interesting things in dataset by caluating length of words\n"
      ]
    },
    {
      "cell_type": "code",
      "metadata": {
        "_cell_guid": "6abbc5cb-3451-8de5-c9cc-0d4a04dbea02",
        "id": "TEYyEIq9OVW8",
        "colab_type": "code",
        "outputId": "bd0cdc0d-da22-4107-de0f-c50679a792fd",
        "colab": {
          "base_uri": "https://localhost:8080/",
          "height": 198
        }
      },
      "source": [
        "sms['length'] = sms['message'].apply(len)\n",
        "sms.head()"
      ],
      "execution_count": 291,
      "outputs": [
        {
          "output_type": "execute_result",
          "data": {
            "text/html": [
              "<div>\n",
              "<style scoped>\n",
              "    .dataframe tbody tr th:only-of-type {\n",
              "        vertical-align: middle;\n",
              "    }\n",
              "\n",
              "    .dataframe tbody tr th {\n",
              "        vertical-align: top;\n",
              "    }\n",
              "\n",
              "    .dataframe thead th {\n",
              "        text-align: right;\n",
              "    }\n",
              "</style>\n",
              "<table border=\"1\" class=\"dataframe\">\n",
              "  <thead>\n",
              "    <tr style=\"text-align: right;\">\n",
              "      <th></th>\n",
              "      <th>label</th>\n",
              "      <th>message</th>\n",
              "      <th>length</th>\n",
              "    </tr>\n",
              "  </thead>\n",
              "  <tbody>\n",
              "    <tr>\n",
              "      <th>0</th>\n",
              "      <td>ham</td>\n",
              "      <td>Go until jurong point, crazy.. Available only ...</td>\n",
              "      <td>111</td>\n",
              "    </tr>\n",
              "    <tr>\n",
              "      <th>1</th>\n",
              "      <td>ham</td>\n",
              "      <td>Ok lar... Joking wif u oni...</td>\n",
              "      <td>29</td>\n",
              "    </tr>\n",
              "    <tr>\n",
              "      <th>2</th>\n",
              "      <td>spam</td>\n",
              "      <td>Free entry in 2 a wkly comp to win FA Cup fina...</td>\n",
              "      <td>155</td>\n",
              "    </tr>\n",
              "    <tr>\n",
              "      <th>3</th>\n",
              "      <td>ham</td>\n",
              "      <td>U dun say so early hor... U c already then say...</td>\n",
              "      <td>49</td>\n",
              "    </tr>\n",
              "    <tr>\n",
              "      <th>4</th>\n",
              "      <td>ham</td>\n",
              "      <td>Nah I don't think he goes to usf, he lives aro...</td>\n",
              "      <td>61</td>\n",
              "    </tr>\n",
              "  </tbody>\n",
              "</table>\n",
              "</div>"
            ],
            "text/plain": [
              "  label                                            message  length\n",
              "0   ham  Go until jurong point, crazy.. Available only ...     111\n",
              "1   ham                      Ok lar... Joking wif u oni...      29\n",
              "2  spam  Free entry in 2 a wkly comp to win FA Cup fina...     155\n",
              "3   ham  U dun say so early hor... U c already then say...      49\n",
              "4   ham  Nah I don't think he goes to usf, he lives aro...      61"
            ]
          },
          "metadata": {
            "tags": []
          },
          "execution_count": 291
        }
      ]
    },
    {
      "cell_type": "code",
      "metadata": {
        "_cell_guid": "4533b9ae-fea2-d346-321b-f73bd12d677d",
        "id": "XNyKmgJMOVW-",
        "colab_type": "code",
        "outputId": "31d50533-658e-4c0a-f8ed-3507e5f476c9",
        "colab": {
          "base_uri": "https://localhost:8080/",
          "height": 397
        }
      },
      "source": [
        "mpl.rcParams['patch.force_edgecolor'] = True\n",
        "plt.style.use('seaborn-bright')\n",
        "sms.hist(column='length', by='label', bins=50,figsize=(11,5))"
      ],
      "execution_count": 292,
      "outputs": [
        {
          "output_type": "execute_result",
          "data": {
            "text/plain": [
              "array([<matplotlib.axes._subplots.AxesSubplot object at 0x7fc596dd0278>,\n",
              "       <matplotlib.axes._subplots.AxesSubplot object at 0x7fc596a7f668>],\n",
              "      dtype=object)"
            ]
          },
          "metadata": {
            "tags": []
          },
          "execution_count": 292
        },
        {
          "output_type": "display_data",
          "data": {
            "image/png": "[encoded data removed]",
            "text/plain": [
              "<Figure size 792x360 with 2 Axes>"
            ]
          },
          "metadata": {
            "tags": [],
            "needs_background": "light"
          }
        }
      ]
    },
    {
      "cell_type": "markdown",
      "metadata": {
        "id": "GtfDFdT6mPCd",
        "colab_type": "text"
      },
      "source": [
        "Process and vertorize messages\n"
      ]
    },
    {
      "cell_type": "code",
      "metadata": {
        "id": "ETtL2fgJmJp6",
        "colab_type": "code",
        "colab": {}
      },
      "source": [
        "text_feat = sms['message'].copy()"
      ],
      "execution_count": 0,
      "outputs": []
    },
    {
      "cell_type": "markdown",
      "metadata": {
        "_cell_guid": "bd1d6d0c-39e2-65fb-1795-9c75bf51f29e",
        "id": "PmYhYRXdOVXF",
        "colab_type": "text"
      },
      "source": [
        "Remove punctuation and stopwords"
      ]
    },
    {
      "cell_type": "code",
      "metadata": {
        "_cell_guid": "078389bf-00ec-13f4-78cd-f6ea818ff6f4",
        "id": "aCg1KacLOVXF",
        "colab_type": "code",
        "colab": {}
      },
      "source": [
        "def text_process(text):\n",
        "    \n",
        "    text = text.translate(str.maketrans('', '', string.punctuation)) #to make mapping table\n",
        "    text = [word for word in text.split() if word.lower() not in stopwords.words('english')]\n",
        "    \n",
        "    return \" \".join(text)"
      ],
      "execution_count": 0,
      "outputs": []
    },
    {
      "cell_type": "markdown",
      "metadata": {
        "id": "ApHsf7q_ou05",
        "colab_type": "text"
      },
      "source": [
        "There's no stopwords then download"
      ]
    },
    {
      "cell_type": "code",
      "metadata": {
        "id": "X-7RZlVQopYN",
        "colab_type": "code",
        "outputId": "9ccac2f5-a6df-4192-8f8c-61396013dec1",
        "colab": {
          "base_uri": "https://localhost:8080/",
          "height": 72
        }
      },
      "source": [
        "nltk.download('stopwords')"
      ],
      "execution_count": 295,
      "outputs": [
        {
          "output_type": "stream",
          "text": [
            "[nltk_data] Downloading package stopwords to /root/nltk_data...\n",
            "[nltk_data]   Package stopwords is already up-to-date!\n"
          ],
          "name": "stdout"
        },
        {
          "output_type": "execute_result",
          "data": {
            "text/plain": [
              "True"
            ]
          },
          "metadata": {
            "tags": []
          },
          "execution_count": 295
        }
      ]
    },
    {
      "cell_type": "code",
      "metadata": {
        "_cell_guid": "79b2e2b0-008d-b648-1031-f94c848a3064",
        "id": "ye-hu5NFOVXH",
        "colab_type": "code",
        "colab": {}
      },
      "source": [
        "text_feat = text_feat.apply(text_process)"
      ],
      "execution_count": 0,
      "outputs": []
    },
    {
      "cell_type": "code",
      "metadata": {
        "_cell_guid": "d6dce35d-b2b3-cfb5-42b1-a95aeac177a1",
        "id": "mVkJ_R9cOVXJ",
        "colab_type": "code",
        "colab": {}
      },
      "source": [
        "vectorizer = TfidfVectorizer(\"english\")"
      ],
      "execution_count": 0,
      "outputs": []
    },
    {
      "cell_type": "code",
      "metadata": {
        "_cell_guid": "d9d11f55-f800-dd25-f001-dcc3c6a7fea4",
        "id": "RLyMFN91OVXL",
        "colab_type": "code",
        "colab": {}
      },
      "source": [
        "features = vectorizer.fit_transform(text_feat)"
      ],
      "execution_count": 0,
      "outputs": []
    },
    {
      "cell_type": "markdown",
      "metadata": {
        "_cell_guid": "cfd14d8a-d700-ee85-f744-9d4562dd9fb0",
        "id": "szzg0sLmOVXN",
        "colab_type": "text"
      },
      "source": [
        "###  Classifiers and predictions"
      ]
    },
    {
      "cell_type": "code",
      "metadata": {
        "_cell_guid": "346766bb-d722-dca1-71d0-fd0f0dafcbae",
        "id": "PF0RfnioOVXN",
        "colab_type": "code",
        "colab": {}
      },
      "source": [
        "features_train, features_test, labels_train, labels_test = train_test_split(features, sms['label'], test_size=0.3, random_state=111)"
      ],
      "execution_count": 0,
      "outputs": []
    },
    {
      "cell_type": "markdown",
      "metadata": {
        "_cell_guid": "1eaef9ae-d68a-4001-8adb-0e2d031be876",
        "id": "X0zAGy1_OVXP",
        "colab_type": "text"
      },
      "source": [
        "Import and initializae classifiers"
      ]
    },
    {
      "cell_type": "code",
      "metadata": {
        "_cell_guid": "a4767634-1a31-ac41-bf62-34c66bfda0b1",
        "id": "r0P55n7FOVXQ",
        "colab_type": "code",
        "colab": {}
      },
      "source": [
        "from sklearn.linear_model import LogisticRegression\n",
        "from sklearn.svm import SVC\n",
        "from sklearn.naive_bayes import MultinomialNB\n",
        "from sklearn.tree import DecisionTreeClassifier\n",
        "from sklearn.neighbors import KNeighborsClassifier\n",
        "from sklearn.ensemble import RandomForestClassifier\n",
        "from sklearn.ensemble import AdaBoostClassifier\n",
        "from sklearn.ensemble import BaggingClassifier\n",
        "from sklearn.ensemble import ExtraTreesClassifier\n",
        "from sklearn.metrics import accuracy_score"
      ],
      "execution_count": 0,
      "outputs": []
    },
    {
      "cell_type": "code",
      "metadata": {
        "_cell_guid": "6e889ffa-59d8-377c-867d-25c67888765f",
        "id": "3_gF1GyYOVXS",
        "colab_type": "code",
        "colab": {}
      },
      "source": [
        "svc = SVC(kernel='sigmoid', gamma=1.0)\n",
        "#svcr = SVC(kernel='relu',gamma=1.0)\n",
        "knc = KNeighborsClassifier(n_neighbors=49)\n",
        "mnb = MultinomialNB(alpha=0.2)\n",
        "dtc = DecisionTreeClassifier(min_samples_split=7, random_state=111)\n",
        "lrc = LogisticRegression(solver='liblinear', penalty='l1')\n",
        "rfc = RandomForestClassifier(n_estimators=31, random_state=111)\n",
        "abc = AdaBoostClassifier(n_estimators=62, random_state=111)\n",
        "bc = BaggingClassifier(n_estimators=9, random_state=111)\n",
        "etc = ExtraTreesClassifier(n_estimators=9, random_state=111)"
      ],
      "execution_count": 0,
      "outputs": []
    },
    {
      "cell_type": "markdown",
      "metadata": {
        "_cell_guid": "f2211ff9-7718-6bc7-2231-d27fea07dc2d",
        "id": "bOoY7soAOVXT",
        "colab_type": "text"
      },
      "source": [
        "Tuning classifiers hyperparameter"
      ]
    },
    {
      "cell_type": "code",
      "metadata": {
        "_cell_guid": "8e9f8c83-33fb-312a-fb44-d6f8c955f427",
        "id": "la_bAllXOVXU",
        "colab_type": "code",
        "colab": {}
      },
      "source": [
        "clfs = {'SVC' : svc, 'KN' : knc, 'NB': mnb, 'DT': dtc, 'LR': lrc, 'RF': rfc, 'AdaBoost': abc, 'BgC': bc, 'ETC': etc}"
      ],
      "execution_count": 0,
      "outputs": []
    },
    {
      "cell_type": "markdown",
      "metadata": {
        "id": "z0cStpDc2I82",
        "colab_type": "text"
      },
      "source": [
        ""
      ]
    },
    {
      "cell_type": "code",
      "metadata": {
        "_cell_guid": "03099d8c-cac3-98a6-a68c-b6f22aed227c",
        "id": "8o0LS6tpOVXW",
        "colab_type": "code",
        "colab": {}
      },
      "source": [
        "def train_classifier(clf, feature_train, labels_train):    \n",
        "    clf.fit(feature_train, labels_train)"
      ],
      "execution_count": 0,
      "outputs": []
    },
    {
      "cell_type": "code",
      "metadata": {
        "_cell_guid": "c74b2aba-431c-89e9-80be-0cf5ac718775",
        "id": "pfJ2VQ47OVXY",
        "colab_type": "code",
        "colab": {}
      },
      "source": [
        "def predict_labels(clf, features):\n",
        "    return (clf.predict(features))"
      ],
      "execution_count": 0,
      "outputs": []
    },
    {
      "cell_type": "code",
      "metadata": {
        "_cell_guid": "803e954a-ca19-091d-85d6-7f58f0df4879",
        "id": "RmI6v3RdOVXZ",
        "colab_type": "code",
        "outputId": "cf0a657a-727c-4ea4-a57d-dd219bd4da6a",
        "colab": {
          "base_uri": "https://localhost:8080/",
          "height": 1000
        }
      },
      "source": [
        "pred_scores = []\n",
        "for k,v in clfs.items():\n",
        "\n",
        "    train_classifier(v, features_train, labels_train)\n",
        "    pred = predict_labels(v,features_test)\n",
        "    pred_scores.append((k, accuracy_score(labels_test,pred)))\n",
        "   # type( [accuracy_score(labels_test,pred)])\n",
        "    print(\"k:\", k, \"\\nv:\", v, \"\\n[accuracy_score(labels_test,pred)]:\",accuracy_score(labels_test,pred))\n"
      ],
      "execution_count": 305,
      "outputs": [
        {
          "output_type": "stream",
          "text": [
            "k: SVC \n",
            "v: SVC(C=1.0, break_ties=False, cache_size=200, class_weight=None, coef0=0.0,\n",
            "    decision_function_shape='ovr', degree=3, gamma=1.0, kernel='sigmoid',\n",
            "    max_iter=-1, probability=False, random_state=None, shrinking=True,\n",
            "    tol=0.001, verbose=False) \n",
            "[accuracy_score(labels_test,pred)]: 0.9784688995215312\n",
            "k: KN \n",
            "v: KNeighborsClassifier(algorithm='auto', leaf_size=30, metric='minkowski',\n",
            "                     metric_params=None, n_jobs=None, n_neighbors=49, p=2,\n",
            "                     weights='uniform') \n",
            "[accuracy_score(labels_test,pred)]: 0.9246411483253588\n",
            "k: NB \n",
            "v: MultinomialNB(alpha=0.2, class_prior=None, fit_prior=True) \n",
            "[accuracy_score(labels_test,pred)]: 0.9844497607655502\n",
            "k: DT \n",
            "v: DecisionTreeClassifier(ccp_alpha=0.0, class_weight=None, criterion='gini',\n",
            "                       max_depth=None, max_features=None, max_leaf_nodes=None,\n",
            "                       min_impurity_decrease=0.0, min_impurity_split=None,\n",
            "                       min_samples_leaf=1, min_samples_split=7,\n",
            "                       min_weight_fraction_leaf=0.0, presort='deprecated',\n",
            "                       random_state=111, splitter='best') \n",
            "[accuracy_score(labels_test,pred)]: 0.958732057416268\n",
            "k: LR \n",
            "v: LogisticRegression(C=1.0, class_weight=None, dual=False, fit_intercept=True,\n",
            "                   intercept_scaling=1, l1_ratio=None, max_iter=100,\n",
            "                   multi_class='auto', n_jobs=None, penalty='l1',\n",
            "                   random_state=None, solver='liblinear', tol=0.0001, verbose=0,\n",
            "                   warm_start=False) \n",
            "[accuracy_score(labels_test,pred)]: 0.9431818181818182\n",
            "k: RF \n",
            "v: RandomForestClassifier(bootstrap=True, ccp_alpha=0.0, class_weight=None,\n",
            "                       criterion='gini', max_depth=None, max_features='auto',\n",
            "                       max_leaf_nodes=None, max_samples=None,\n",
            "                       min_impurity_decrease=0.0, min_impurity_split=None,\n",
            "                       min_samples_leaf=1, min_samples_split=2,\n",
            "                       min_weight_fraction_leaf=0.0, n_estimators=31,\n",
            "                       n_jobs=None, oob_score=False, random_state=111,\n",
            "                       verbose=0, warm_start=False) \n",
            "[accuracy_score(labels_test,pred)]: 0.9700956937799043\n",
            "k: AdaBoost \n",
            "v: AdaBoostClassifier(algorithm='SAMME.R', base_estimator=None, learning_rate=1.0,\n",
            "                   n_estimators=62, random_state=111) \n",
            "[accuracy_score(labels_test,pred)]: 0.9671052631578947\n",
            "k: BgC \n",
            "v: BaggingClassifier(base_estimator=None, bootstrap=True, bootstrap_features=False,\n",
            "                  max_features=1.0, max_samples=1.0, n_estimators=9,\n",
            "                  n_jobs=None, oob_score=False, random_state=111, verbose=0,\n",
            "                  warm_start=False) \n",
            "[accuracy_score(labels_test,pred)]: 0.9671052631578947\n",
            "k: ETC \n",
            "v: ExtraTreesClassifier(bootstrap=False, ccp_alpha=0.0, class_weight=None,\n",
            "                     criterion='gini', max_depth=None, max_features='auto',\n",
            "                     max_leaf_nodes=None, max_samples=None,\n",
            "                     min_impurity_decrease=0.0, min_impurity_split=None,\n",
            "                     min_samples_leaf=1, min_samples_split=2,\n",
            "                     min_weight_fraction_leaf=0.0, n_estimators=9, n_jobs=None,\n",
            "                     oob_score=False, random_state=111, verbose=0,\n",
            "                     warm_start=False) \n",
            "[accuracy_score(labels_test,pred)]: 0.9772727272727273\n"
          ],
          "name": "stdout"
        }
      ]
    },
    {
      "cell_type": "code",
      "metadata": {
        "_cell_guid": "52b248b9-679b-bb99-923a-97ce37440bfc",
        "id": "b_LahjFROVXb",
        "colab_type": "code",
        "colab": {}
      },
      "source": [
        "df = pd.DataFrame(pred_scores,columns=['Classifier','Score']).set_index('Classifier', drop=True)\n"
      ],
      "execution_count": 0,
      "outputs": []
    },
    {
      "cell_type": "code",
      "metadata": {
        "_cell_guid": "c8f328a9-2fb9-70f3-97d7-77be91920131",
        "id": "3qIGFW-BOVXd",
        "colab_type": "code",
        "outputId": "5adb2db4-9464-4f04-a878-dd78cc8b4848",
        "colab": {
          "base_uri": "https://localhost:8080/",
          "height": 459
        }
      },
      "source": [
        "df.plot(kind='bar', ylim=(0.9,1.0), figsize=(11,6), align='center', colormap=\"Accent\")\n",
        "plt.xticks(np.arange(9), df.index)\n",
        "plt.ylabel('Accuracy Score')\n",
        "plt.title('Distribution by Classifier')\n",
        "plt.legend(bbox_to_anchor=(1.05, 1), loc=2, borderaxespad=0.)"
      ],
      "execution_count": 307,
      "outputs": [
        {
          "output_type": "execute_result",
          "data": {
            "text/plain": [
              "<matplotlib.legend.Legend at 0x7fc5967b0d30>"
            ]
          },
          "metadata": {
            "tags": []
          },
          "execution_count": 307
        },
        {
          "output_type": "display_data",
          "data": {
            "image/png": "[encoded data removed]",
            "text/plain": [
              "<Figure size 792x432 with 1 Axes>"
            ]
          },
          "metadata": {
            "tags": [],
            "needs_background": "light"
          }
        }
      ]
    },
    {
      "cell_type": "markdown",
      "metadata": {
        "_cell_guid": "bb9b55cc-0b1d-2542-0d55-48a5c4b83b81",
        "id": "_6XNdwXvOVXf",
        "colab_type": "text"
      },
      "source": [
        "### Stemmer"
      ]
    },
    {
      "cell_type": "markdown",
      "metadata": {
        "_cell_guid": "6ccb1920-3517-c118-7156-fad8f57c1691",
        "id": "jcufsXhBOVXf",
        "colab_type": "text"
      },
      "source": [
        "It is said that stemming short messages does no goot or even harm predictions. Let's try this out."
      ]
    },
    {
      "cell_type": "markdown",
      "metadata": {
        "_cell_guid": "3f8663ef-bd68-2d8c-34b6-1231e7a665fe",
        "id": "0YkeJsYhOVXg",
        "colab_type": "text"
      },
      "source": [
        "**Define** our stemmer function"
      ]
    },
    {
      "cell_type": "code",
      "metadata": {
        "_cell_guid": "e5b19298-c67e-bc13-58b7-0f3de5221189",
        "id": "pb-5aTu6OVXg",
        "colab_type": "code",
        "colab": {}
      },
      "source": [
        "def stemmer (text):\n",
        "    text = text.split()\n",
        "    words = \"\"\n",
        "    for i in text:\n",
        "            stemmer = SnowballStemmer(\"english\")\n",
        "            words += (stemmer.stem(i))+\" \"\n",
        "    return words"
      ],
      "execution_count": 0,
      "outputs": []
    },
    {
      "cell_type": "markdown",
      "metadata": {
        "_cell_guid": "6a5e7f03-abb3-f304-2732-614933b165de",
        "id": "HSnRmoILOVXi",
        "colab_type": "text"
      },
      "source": [
        ""
      ]
    },
    {
      "cell_type": "code",
      "metadata": {
        "_cell_guid": "93da4610-5803-01b3-ff7c-17acc500650d",
        "id": "y5Og3APwOVXi",
        "colab_type": "code",
        "colab": {}
      },
      "source": [
        "text_feat = text_feat.apply(stemmer)"
      ],
      "execution_count": 0,
      "outputs": []
    },
    {
      "cell_type": "code",
      "metadata": {
        "_cell_guid": "d3e882d5-737d-13c6-53a3-99173de104a8",
        "id": "u6FwKhZAOVXk",
        "colab_type": "code",
        "colab": {}
      },
      "source": [
        "features = vectorizer.fit_transform(text_feat)"
      ],
      "execution_count": 0,
      "outputs": []
    },
    {
      "cell_type": "code",
      "metadata": {
        "_cell_guid": "433d51e7-f5bf-e9d6-1c67-02274f4f2504",
        "id": "zL-k-oanOVXm",
        "colab_type": "code",
        "colab": {}
      },
      "source": [
        "features_train, features_test, labels_train, labels_test = train_test_split(features, sms['label'], test_size=0.3, random_state=111)"
      ],
      "execution_count": 0,
      "outputs": []
    },
    {
      "cell_type": "code",
      "metadata": {
        "_cell_guid": "67c866a0-cdc6-7b4a-45e9-97a9bc60bcb0",
        "id": "jvq9SbroOVXn",
        "colab_type": "code",
        "outputId": "84f66755-ff68-437b-9826-014a21c55e8a",
        "colab": {
          "base_uri": "https://localhost:8080/",
          "height": 181
        }
      },
      "source": [
        "pred_scores = []\n",
        "for k,v in clfs.items():\n",
        "    train_classifier(v, features_train, labels_train)\n",
        "    pred = predict_labels(v,features_test)\n",
        "    pred_scores.append((k, accuracy_score(labels_test,pred)))\n",
        "pred_scores"
      ],
      "execution_count": 312,
      "outputs": [
        {
          "output_type": "execute_result",
          "data": {
            "text/plain": [
              "[('SVC', 0.9784688995215312),\n",
              " ('KN', 0.9276315789473685),\n",
              " ('NB', 0.9850478468899522),\n",
              " ('DT', 0.9599282296650717),\n",
              " ('LR', 0.9467703349282297),\n",
              " ('RF', 0.9748803827751196),\n",
              " ('AdaBoost', 0.9700956937799043),\n",
              " ('BgC', 0.9688995215311005),\n",
              " ('ETC', 0.9778708133971292)]"
            ]
          },
          "metadata": {
            "tags": []
          },
          "execution_count": 312
        }
      ]
    },
    {
      "cell_type": "code",
      "metadata": {
        "_cell_guid": "0fc7b0b4-6f5a-0729-bdfd-c2d963f72e0e",
        "id": "NW4kh0a2OVXp",
        "colab_type": "code",
        "colab": {}
      },
      "source": [
        "df2 = pd.DataFrame(pred_scores, columns=['Classifier','Score2']).set_index('Classifier', drop=True)\n"
      ],
      "execution_count": 0,
      "outputs": []
    },
    {
      "cell_type": "code",
      "metadata": {
        "id": "SpKEwxoPIbY2",
        "colab_type": "code",
        "outputId": "f3c5a3ed-e8a6-4572-a734-65c1cb2f7741",
        "colab": {
          "base_uri": "https://localhost:8080/",
          "height": 348
        }
      },
      "source": [
        "df = pd.concat([df,df2],axis=1)\n",
        "df"
      ],
      "execution_count": 314,
      "outputs": [
        {
          "output_type": "execute_result",
          "data": {
            "text/html": [
              "<div>\n",
              "<style scoped>\n",
              "    .dataframe tbody tr th:only-of-type {\n",
              "        vertical-align: middle;\n",
              "    }\n",
              "\n",
              "    .dataframe tbody tr th {\n",
              "        vertical-align: top;\n",
              "    }\n",
              "\n",
              "    .dataframe thead th {\n",
              "        text-align: right;\n",
              "    }\n",
              "</style>\n",
              "<table border=\"1\" class=\"dataframe\">\n",
              "  <thead>\n",
              "    <tr style=\"text-align: right;\">\n",
              "      <th></th>\n",
              "      <th>Score</th>\n",
              "      <th>Score2</th>\n",
              "    </tr>\n",
              "    <tr>\n",
              "      <th>Classifier</th>\n",
              "      <th></th>\n",
              "      <th></th>\n",
              "    </tr>\n",
              "  </thead>\n",
              "  <tbody>\n",
              "    <tr>\n",
              "      <th>SVC</th>\n",
              "      <td>0.978469</td>\n",
              "      <td>0.978469</td>\n",
              "    </tr>\n",
              "    <tr>\n",
              "      <th>KN</th>\n",
              "      <td>0.924641</td>\n",
              "      <td>0.927632</td>\n",
              "    </tr>\n",
              "    <tr>\n",
              "      <th>NB</th>\n",
              "      <td>0.984450</td>\n",
              "      <td>0.985048</td>\n",
              "    </tr>\n",
              "    <tr>\n",
              "      <th>DT</th>\n",
              "      <td>0.958732</td>\n",
              "      <td>0.959928</td>\n",
              "    </tr>\n",
              "    <tr>\n",
              "      <th>LR</th>\n",
              "      <td>0.943182</td>\n",
              "      <td>0.946770</td>\n",
              "    </tr>\n",
              "    <tr>\n",
              "      <th>RF</th>\n",
              "      <td>0.970096</td>\n",
              "      <td>0.974880</td>\n",
              "    </tr>\n",
              "    <tr>\n",
              "      <th>AdaBoost</th>\n",
              "      <td>0.967105</td>\n",
              "      <td>0.970096</td>\n",
              "    </tr>\n",
              "    <tr>\n",
              "      <th>BgC</th>\n",
              "      <td>0.967105</td>\n",
              "      <td>0.968900</td>\n",
              "    </tr>\n",
              "    <tr>\n",
              "      <th>ETC</th>\n",
              "      <td>0.977273</td>\n",
              "      <td>0.977871</td>\n",
              "    </tr>\n",
              "  </tbody>\n",
              "</table>\n",
              "</div>"
            ],
            "text/plain": [
              "               Score    Score2\n",
              "Classifier                    \n",
              "SVC         0.978469  0.978469\n",
              "KN          0.924641  0.927632\n",
              "NB          0.984450  0.985048\n",
              "DT          0.958732  0.959928\n",
              "LR          0.943182  0.946770\n",
              "RF          0.970096  0.974880\n",
              "AdaBoost    0.967105  0.970096\n",
              "BgC         0.967105  0.968900\n",
              "ETC         0.977273  0.977871"
            ]
          },
          "metadata": {
            "tags": []
          },
          "execution_count": 314
        }
      ]
    },
    {
      "cell_type": "code",
      "metadata": {
        "_cell_guid": "bdee0cfd-c0c8-c488-d763-2610bccff986",
        "id": "CC24_47OOVXr",
        "colab_type": "code",
        "outputId": "92e463ed-1e0b-46ad-9f5d-fb9b9eb012c9",
        "colab": {
          "base_uri": "https://localhost:8080/",
          "height": 459
        }
      },
      "source": [
        "df.plot(kind='bar', ylim=(0.85,1.0), figsize=(11,6), align='center', colormap=\"Accent\")\n",
        "plt.xticks(np.arange(9), df.index)\n",
        "plt.ylabel('Accuracy Score')\n",
        "plt.title('Distribution by Classifier')\n",
        "plt.legend(bbox_to_anchor=(1.05, 1), loc=2, borderaxespad=0.)"
      ],
      "execution_count": 315,
      "outputs": [
        {
          "output_type": "execute_result",
          "data": {
            "text/plain": [
              "<matplotlib.legend.Legend at 0x7fc5995851d0>"
            ]
          },
          "metadata": {
            "tags": []
          },
          "execution_count": 315
        },
        {
          "output_type": "display_data",
          "data": {
            "image/png": "[encoded data removed]",
            "text/plain": [
              "<Figure size 792x432 with 1 Axes>"
            ]
          },
          "metadata": {
            "tags": [],
            "needs_background": "light"
          }
        }
      ]
    },
    {
      "cell_type": "markdown",
      "metadata": {
        "_cell_guid": "90388ff7-bd5e-a224-3fab-e3d29242b5b1",
        "id": "Rjx0MirpOVXt",
        "colab_type": "text"
      },
      "source": [
        "Let's append our message length feature to the matrix we fit into our classifiers"
      ]
    },
    {
      "cell_type": "code",
      "metadata": {
        "_cell_guid": "47579382-284c-0f3a-3292-d61a637a523e",
        "id": "qMpAwi0-OVXu",
        "colab_type": "code",
        "outputId": "0117b7eb-a2da-4096-8f2e-65a69ac8171d",
        "colab": {
          "base_uri": "https://localhost:8080/",
          "height": 35
        }
      },
      "source": [
        "lf = sms['length'].values\n",
        "lf"
      ],
      "execution_count": 323,
      "outputs": [
        {
          "output_type": "execute_result",
          "data": {
            "text/plain": [
              "array([111,  29, 155, ...,  57, 125,  26])"
            ]
          },
          "metadata": {
            "tags": []
          },
          "execution_count": 323
        }
      ]
    },
    {
      "cell_type": "code",
      "metadata": {
        "id": "dOtub9znNnYR",
        "colab_type": "code",
        "colab": {}
      },
      "source": [
        "newfeat = np.hstack((features.todense(),lf[:, None]))"
      ],
      "execution_count": 0,
      "outputs": []
    },
    {
      "cell_type": "code",
      "metadata": {
        "_cell_guid": "dc824a5a-ca6f-423a-89cd-512cfe07e4cb",
        "id": "0pmITw7WOVXv",
        "colab_type": "code",
        "colab": {}
      },
      "source": [
        "features_train, features_test, labels_train, labels_test = train_test_split(newfeat, sms['label'], test_size=0.3, random_state=111)"
      ],
      "execution_count": 0,
      "outputs": []
    },
    {
      "cell_type": "code",
      "metadata": {
        "_cell_guid": "5470c596-720f-3d1f-cfeb-02cfcc4a7bac",
        "id": "xFxawkILOVXx",
        "colab_type": "code",
        "colab": {}
      },
      "source": [
        "pred_scores = []\n",
        "for k,v in clfs.items():\n",
        "    train_classifier(v, features_train, labels_train)\n",
        "    pred = predict_labels(v,features_test)\n",
        "    pred_scores.append((k, accuracy_score(labels_test,pred)))"
      ],
      "execution_count": 0,
      "outputs": []
    },
    {
      "cell_type": "code",
      "metadata": {
        "_cell_guid": "7a77c087-88ed-f1c8-e2f4-fe135886af66",
        "id": "NiudTw8-OVXy",
        "colab_type": "code",
        "outputId": "b54def60-928b-4002-9820-d61b7e79d654",
        "colab": {
          "base_uri": "https://localhost:8080/",
          "height": 348
        }
      },
      "source": [
        "df3 = pd.DataFrame(pred_scores,columns=['Classifier','Score3']).set_index('Classifier', drop=True)\n",
        "df = pd.concat([df,df3],axis=1)\n",
        "df"
      ],
      "execution_count": 328,
      "outputs": [
        {
          "output_type": "execute_result",
          "data": {
            "text/html": [
              "<div>\n",
              "<style scoped>\n",
              "    .dataframe tbody tr th:only-of-type {\n",
              "        vertical-align: middle;\n",
              "    }\n",
              "\n",
              "    .dataframe tbody tr th {\n",
              "        vertical-align: top;\n",
              "    }\n",
              "\n",
              "    .dataframe thead th {\n",
              "        text-align: right;\n",
              "    }\n",
              "</style>\n",
              "<table border=\"1\" class=\"dataframe\">\n",
              "  <thead>\n",
              "    <tr style=\"text-align: right;\">\n",
              "      <th></th>\n",
              "      <th>Score</th>\n",
              "      <th>Score2</th>\n",
              "      <th>Score3</th>\n",
              "    </tr>\n",
              "    <tr>\n",
              "      <th>Classifier</th>\n",
              "      <th></th>\n",
              "      <th></th>\n",
              "      <th></th>\n",
              "    </tr>\n",
              "  </thead>\n",
              "  <tbody>\n",
              "    <tr>\n",
              "      <th>SVC</th>\n",
              "      <td>0.978469</td>\n",
              "      <td>0.978469</td>\n",
              "      <td>0.861244</td>\n",
              "    </tr>\n",
              "    <tr>\n",
              "      <th>KN</th>\n",
              "      <td>0.924641</td>\n",
              "      <td>0.927632</td>\n",
              "      <td>0.881579</td>\n",
              "    </tr>\n",
              "    <tr>\n",
              "      <th>NB</th>\n",
              "      <td>0.984450</td>\n",
              "      <td>0.985048</td>\n",
              "      <td>0.982656</td>\n",
              "    </tr>\n",
              "    <tr>\n",
              "      <th>DT</th>\n",
              "      <td>0.958732</td>\n",
              "      <td>0.959928</td>\n",
              "      <td>0.957536</td>\n",
              "    </tr>\n",
              "    <tr>\n",
              "      <th>LR</th>\n",
              "      <td>0.943182</td>\n",
              "      <td>0.946770</td>\n",
              "      <td>0.954545</td>\n",
              "    </tr>\n",
              "    <tr>\n",
              "      <th>RF</th>\n",
              "      <td>0.970096</td>\n",
              "      <td>0.974880</td>\n",
              "      <td>0.975478</td>\n",
              "    </tr>\n",
              "    <tr>\n",
              "      <th>AdaBoost</th>\n",
              "      <td>0.967105</td>\n",
              "      <td>0.970096</td>\n",
              "      <td>0.961722</td>\n",
              "    </tr>\n",
              "    <tr>\n",
              "      <th>BgC</th>\n",
              "      <td>0.967105</td>\n",
              "      <td>0.968900</td>\n",
              "      <td>0.962321</td>\n",
              "    </tr>\n",
              "    <tr>\n",
              "      <th>ETC</th>\n",
              "      <td>0.977273</td>\n",
              "      <td>0.977871</td>\n",
              "      <td>0.975478</td>\n",
              "    </tr>\n",
              "  </tbody>\n",
              "</table>\n",
              "</div>"
            ],
            "text/plain": [
              "               Score    Score2    Score3\n",
              "Classifier                              \n",
              "SVC         0.978469  0.978469  0.861244\n",
              "KN          0.924641  0.927632  0.881579\n",
              "NB          0.984450  0.985048  0.982656\n",
              "DT          0.958732  0.959928  0.957536\n",
              "LR          0.943182  0.946770  0.954545\n",
              "RF          0.970096  0.974880  0.975478\n",
              "AdaBoost    0.967105  0.970096  0.961722\n",
              "BgC         0.967105  0.968900  0.962321\n",
              "ETC         0.977273  0.977871  0.975478"
            ]
          },
          "metadata": {
            "tags": []
          },
          "execution_count": 328
        }
      ]
    },
    {
      "cell_type": "code",
      "metadata": {
        "_cell_guid": "e84b01e2-b9ed-6d4f-e667-5183ef30ad7b",
        "id": "9Ba1aqSfOVX1",
        "colab_type": "code",
        "outputId": "da7f5372-d903-4b91-c287-4cc74a986acc",
        "colab": {
          "base_uri": "https://localhost:8080/",
          "height": 459
        }
      },
      "source": [
        "df.plot(kind='bar', ylim=(0.85,1.0), figsize=(11,6), align='center', colormap=\"Accent\")\n",
        "plt.xticks(np.arange(9), df.index)\n",
        "plt.ylabel('Accuracy Score')\n",
        "plt.title('Distribution by Classifier')\n",
        "plt.legend(bbox_to_anchor=(1.05, 1), loc=2, borderaxespad=0.)"
      ],
      "execution_count": 329,
      "outputs": [
        {
          "output_type": "execute_result",
          "data": {
            "text/plain": [
              "<matplotlib.legend.Legend at 0x7fc596e824e0>"
            ]
          },
          "metadata": {
            "tags": []
          },
          "execution_count": 329
        },
        {
          "output_type": "display_data",
          "data": {
            "image/png": "[encoded data removed]",
            "text/plain": [
              "<Figure size 792x432 with 1 Axes>"
            ]
          },
          "metadata": {
            "tags": [],
            "needs_background": "light"
          }
        }
      ]
    },
    {
      "cell_type": "markdown",
      "metadata": {
        "_cell_guid": "cbf377a8-4f68-b82a-3c19-e26f73f40e35",
        "id": "VZUcoE2qOVX4",
        "colab_type": "text"
      },
      "source": [
        "Voting classifier"
      ]
    },
    {
      "cell_type": "code",
      "metadata": {
        "_cell_guid": "e76bd4e6-6384-dcc7-2d5e-1731383c3af7",
        "id": "hqtzcK9XOVX4",
        "colab_type": "code",
        "colab": {}
      },
      "source": [
        "from sklearn.ensemble import VotingClassifier"
      ],
      "execution_count": 0,
      "outputs": []
    },
    {
      "cell_type": "code",
      "metadata": {
        "_cell_guid": "9d59abce-ba88-1f77-b6cd-2f992fec95ac",
        "id": "588o_Ro5OVX6",
        "colab_type": "code",
        "colab": {}
      },
      "source": [
        "eclf = VotingClassifier(estimators=[('BgC', bc), ('ETC', etc), ('RF', rfc), ('Ada', abc)], voting='soft')"
      ],
      "execution_count": 0,
      "outputs": []
    },
    {
      "cell_type": "code",
      "metadata": {
        "_cell_guid": "743afa06-5134-466b-cc31-18f54eb93f0b",
        "id": "TYbb7-aDOVX7",
        "colab_type": "code",
        "outputId": "a26d0b4c-1f04-4897-aa7b-d8199f308f01",
        "colab": {
          "base_uri": "https://localhost:8080/",
          "height": 635
        }
      },
      "source": [
        "eclf.fit(features_train,labels_train)"
      ],
      "execution_count": 332,
      "outputs": [
        {
          "output_type": "execute_result",
          "data": {
            "text/plain": [
              "VotingClassifier(estimators=[('BgC',\n",
              "                              BaggingClassifier(base_estimator=None,\n",
              "                                                bootstrap=True,\n",
              "                                                bootstrap_features=False,\n",
              "                                                max_features=1.0,\n",
              "                                                max_samples=1.0, n_estimators=9,\n",
              "                                                n_jobs=None, oob_score=False,\n",
              "                                                random_state=111, verbose=0,\n",
              "                                                warm_start=False)),\n",
              "                             ('ETC',\n",
              "                              ExtraTreesClassifier(bootstrap=False,\n",
              "                                                   ccp_alpha=0.0,\n",
              "                                                   class_weight=None,\n",
              "                                                   criterion='gini',\n",
              "                                                   max_depth=None,\n",
              "                                                   max_fe...\n",
              "                                                     min_impurity_split=None,\n",
              "                                                     min_samples_leaf=1,\n",
              "                                                     min_samples_split=2,\n",
              "                                                     min_weight_fraction_leaf=0.0,\n",
              "                                                     n_estimators=31,\n",
              "                                                     n_jobs=None,\n",
              "                                                     oob_score=False,\n",
              "                                                     random_state=111,\n",
              "                                                     verbose=0,\n",
              "                                                     warm_start=False)),\n",
              "                             ('Ada',\n",
              "                              AdaBoostClassifier(algorithm='SAMME.R',\n",
              "                                                 base_estimator=None,\n",
              "                                                 learning_rate=1.0,\n",
              "                                                 n_estimators=62,\n",
              "                                                 random_state=111))],\n",
              "                 flatten_transform=True, n_jobs=None, voting='soft',\n",
              "                 weights=None)"
            ]
          },
          "metadata": {
            "tags": []
          },
          "execution_count": 332
        }
      ]
    },
    {
      "cell_type": "code",
      "metadata": {
        "_cell_guid": "d834da3c-3dc9-e209-0c80-9f93c3d8a519",
        "id": "vZw8uWgROVX-",
        "colab_type": "code",
        "colab": {}
      },
      "source": [
        "pred = eclf.predict(features_test)"
      ],
      "execution_count": 0,
      "outputs": []
    },
    {
      "cell_type": "code",
      "metadata": {
        "_cell_guid": "4de3ce6c-3c95-9fe5-e5dd-0888db0bbb12",
        "id": "emBjij2IOVYA",
        "colab_type": "code",
        "outputId": "6fad6bf1-0228-4615-bcb7-18536dbacb03",
        "colab": {
          "base_uri": "https://localhost:8080/",
          "height": 35
        }
      },
      "source": [
        "print(accuracy_score(labels_test,pred))"
      ],
      "execution_count": 334,
      "outputs": [
        {
          "output_type": "stream",
          "text": [
            "0.979066985645933\n"
          ],
          "name": "stdout"
        }
      ]
    }
  ]
}